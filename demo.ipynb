{
 "cells": [
  {
   "cell_type": "code",
   "execution_count": null,
   "metadata": {},
   "outputs": [],
   "source": [
    "import torch\n",
    "import yaml\n",
    "from models.unet import Unet\n",
    "from models.vqvae import VQVAE\n",
    "from linear_noise_scheduler import LinearNoiseScheduler"
   ]
  },
  {
   "cell_type": "code",
   "execution_count": 2,
   "metadata": {},
   "outputs": [],
   "source": [
    "config_file = 'config/celebhq.yaml'\n",
    "\n",
    "with open(config_file, 'r') as file:\n",
    "    try:\n",
    "        config = yaml.safe_load(file)\n",
    "    except yaml.YAMLError as exc:\n",
    "        print(exc)\n",
    "\n",
    "diffusion_config = config['diffusion_params']\n",
    "dataset_config = config['dataset_params']\n",
    "diffusion_model_config = config['ldm_params']\n",
    "autoencoder_model_config = config['autoencoder_params']\n",
    "train_config = config['train_params']\n"
   ]
  },
  {
   "cell_type": "code",
   "execution_count": null,
   "metadata": {},
   "outputs": [],
   "source": [
    "device = torch.device('cuda' if torch.cuda.is_available() else 'cpu')\n",
    "\n",
    "model = Unet(im_channels=autoencoder_model_config['z_channels'],\n",
    "             model_config=diffusion_model_config).to(device)\n",
    "\n",
    "vae = VQVAE(im_channels=dataset_config['im_channels'],\n",
    "            model_config=autoencoder_model_config).to(device)"
   ]
  },
  {
   "cell_type": "code",
   "execution_count": null,
   "metadata": {},
   "outputs": [
    {
     "name": "stderr",
     "output_type": "stream",
     "text": [
      "/tmp/ipykernel_543831/1604394238.py:3: FutureWarning: You are using `torch.load` with `weights_only=False` (the current default value), which uses the default pickle module implicitly. It is possible to construct malicious pickle data which will execute arbitrary code during unpickling (See https://github.com/pytorch/pytorch/blob/main/SECURITY.md#untrusted-models for more details). In a future release, the default value for `weights_only` will be flipped to `True`. This limits the functions that could be executed during unpickling. Arbitrary objects will no longer be allowed to be loaded via this mode unless they are explicitly allowlisted by the user via `torch.serialization.add_safe_globals`. We recommend you start setting `weights_only=True` for any use case where you don't have full control of the loaded file. Please open an issue on GitHub for any issues related to this experimental feature.\n",
      "  checkpoint = torch.load(checkpoint_file)\n"
     ]
    },
    {
     "data": {
      "text/plain": [
       "<All keys matched successfully>"
      ]
     },
     "execution_count": 4,
     "metadata": {},
     "output_type": "execute_result"
    }
   ],
   "source": [
    "checkpoint_ddpmfile = 'celebhq/ddpm_ckpt/ddpm_ckpt_325000.pth'\n",
    "checkpoint_ddpm = torch.load(checkpoint_ddpmfile)\n",
    "\n",
    "model.load_state_dict(checkpoint_ddpm['model'])\n",
    "\n",
    "checkpoint_vqvaefile = 'celebhq/vqvae_ckpt/autoenconder_ckpt_149999.pth'\n",
    "checkpoint_vqvae = torch.load(checkpoint_vqvaefile)\n",
    "\n",
    "vae.load_state_dict(checkpoint_vqvae['model'])"
   ]
  },
  {
   "cell_type": "code",
   "execution_count": 5,
   "metadata": {},
   "outputs": [
    {
     "ename": "NameError",
     "evalue": "name 'LinearNoiseScheduler' is not defined",
     "output_type": "error",
     "traceback": [
      "\u001b[0;31m---------------------------------------------------------------------------\u001b[0m",
      "\u001b[0;31mNameError\u001b[0m                                 Traceback (most recent call last)",
      "Cell \u001b[0;32mIn[5], line 1\u001b[0m\n\u001b[0;32m----> 1\u001b[0m noise_scheduler \u001b[38;5;241m=\u001b[39m \u001b[43mLinearNoiseScheduler\u001b[49m(\n\u001b[1;32m      2\u001b[0m     num_timesteps\u001b[38;5;241m=\u001b[39mdiffusion_config[\u001b[38;5;124m'\u001b[39m\u001b[38;5;124mnum_timesteps\u001b[39m\u001b[38;5;124m'\u001b[39m],\n\u001b[1;32m      3\u001b[0m     beta_start\u001b[38;5;241m=\u001b[39mdiffusion_config[\u001b[38;5;124m'\u001b[39m\u001b[38;5;124mbeta_start\u001b[39m\u001b[38;5;124m'\u001b[39m],\n\u001b[1;32m      4\u001b[0m     beta_end\u001b[38;5;241m=\u001b[39mdiffusion_config[\u001b[38;5;124m'\u001b[39m\u001b[38;5;124mbeta_end\u001b[39m\u001b[38;5;124m'\u001b[39m]\n\u001b[1;32m      5\u001b[0m )\n",
      "\u001b[0;31mNameError\u001b[0m: name 'LinearNoiseScheduler' is not defined"
     ]
    }
   ],
   "source": [
    "noise_scheduler = LinearNoiseScheduler(\n",
    "    num_timesteps=diffusion_config['num_timesteps'],\n",
    "    beta_start=diffusion_config['beta_start'],\n",
    "    beta_end=diffusion_config['beta_end']\n",
    ")"
   ]
  },
  {
   "cell_type": "code",
   "execution_count": null,
   "metadata": {},
   "outputs": [],
   "source": [
    "from utils import sample"
   ]
  }
 ],
 "metadata": {
  "kernelspec": {
   "display_name": "env",
   "language": "python",
   "name": "python3"
  },
  "language_info": {
   "codemirror_mode": {
    "name": "ipython",
    "version": 3
   },
   "file_extension": ".py",
   "mimetype": "text/x-python",
   "name": "python",
   "nbconvert_exporter": "python",
   "pygments_lexer": "ipython3",
   "version": "3.10.12"
  }
 },
 "nbformat": 4,
 "nbformat_minor": 2
}
